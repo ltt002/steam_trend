{
 "cells": [
  {
   "cell_type": "code",
   "execution_count": 7,
   "metadata": {},
   "outputs": [],
   "source": [
    "# !pip install -q selenium==4.3.0\n",
    "# !pip install -q lxml==4.9.1\n",
    "# !pip install -q beautifulsoup4==4.11.1\n",
    "# !pip install -q backoff==2.1.2\n",
    "# import backoff\n",
    "# backoff.__version__\n",
    "# !pip install -q pandas\n",
    "# !pip install python-dotenv"
   ]
  },
  {
   "cell_type": "code",
   "execution_count": 8,
   "metadata": {},
   "outputs": [],
   "source": [
    "from time import sleep\n",
    "from bs4 import BeautifulSoup\n",
    "from selenium import webdriver\n",
    "from selenium.webdriver.common.by import By\n",
    "from selenium.webdriver.common.keys import Keys # 鍵盤事件\n",
    "import pandas as pd\n",
    "import backoff\n",
    "from datetime import datetime\n",
    "import pytz\n",
    "\n",
    "\n",
    "tz = pytz.timezone('Asia/Taipei')\n",
    "today = datetime.now(tz)\n",
    "date_ = today.strftime(\"%Y%m%d_%H%M\")"
   ]
  },
  {
   "cell_type": "code",
   "execution_count": 9,
   "metadata": {},
   "outputs": [],
   "source": [
    "def set_ua():\n",
    "    user_agent = 'Mozilla/5.0 (Windows NT 10.0; Win64; x64) AppleWebKit/537.36 (KHTML, like Gecko) Chrome/103.0.0.0 Safari/537.36'\n",
    "    return user_agent"
   ]
  },
  {
   "cell_type": "code",
   "execution_count": 10,
   "metadata": {},
   "outputs": [],
   "source": [
    "@backoff.on_exception(backoff.expo,\n",
    "                        Exception, \n",
    "                      max_time=10)\n",
    "def chrome_init():\n",
    "    chrome_opt = webdriver.ChromeOptions()\n",
    "    # chrome_opt.add_argument('--headless')\n",
    "    chrome_opt.add_argument('--no-sandbox')\n",
    "    chrome_opt.add_argument('--ignore-ssl-errors=yes')\n",
    "    chrome_opt.add_argument('--ignore-certificate-errors')\n",
    "    chrome_opt.add_argument(f'user-agent={set_ua()}')\n",
    "    # chrome_opt.add_argument(\"--incognito\")  # 使用無痕模式。用 selenium開瀏覽器已經很乾淨了，但疑心病重的可以用一下\n",
    "    driver = webdriver.Remote(\n",
    "        command_executor='http://selenium-hub:4444/wd/hub',\n",
    "        options=chrome_opt\n",
    "    )\n",
    "    \n",
    "    return driver"
   ]
  },
  {
   "cell_type": "code",
   "execution_count": 11,
   "metadata": {},
   "outputs": [],
   "source": [
    "url = 'https://steamcommunity.com/?subsection=broadcasts' # 指定網址\n",
    "driver = chrome_init()\n",
    "driver.get(url) # 進入指定網址\n",
    "driver.implicitly_wait(5) # 等待伺服器反應最多 5 秒，如果在時間到之前反應就提早結束等待"
   ]
  },
  {
   "cell_type": "code",
   "execution_count": 12,
   "metadata": {},
   "outputs": [],
   "source": [
    "# # 使用臨時配置文件\n",
    "# option.add_argument(\"--user-data-dir=/tmp/temporary-profile\")\n",
    "# # 設定預設語言為英文\n",
    "# option.add_experimental_option('prefs', {'intl.accept_languages': 'en,en_US'})"
   ]
  },
  {
   "cell_type": "code",
   "execution_count": 13,
   "metadata": {},
   "outputs": [
    {
     "name": "stdout",
     "output_type": "stream",
     "text": [
      "0 success\n",
      "1 success\n",
      "2 success\n",
      "3 success\n",
      "4 success\n",
      "5 success\n",
      "6 success\n",
      "7 success\n",
      "8 success\n",
      "9 success\n",
      "10 success\n",
      "11 success\n",
      "12 success\n",
      "13 success\n",
      "14 success\n",
      "15 success\n",
      "16 success\n",
      "17 success\n",
      "18 success\n",
      "19 success\n",
      "20 success\n",
      "21 success\n",
      "22 success\n",
      "23 success\n",
      "24 success\n",
      "25 success\n",
      "26 success\n",
      "27 success\n",
      "28 success\n",
      "29 success\n",
      "30 success\n",
      "31 success\n",
      "32 success\n",
      "33 success\n",
      "34 success\n",
      "35 success\n",
      "36 success\n",
      "37 success\n",
      "38 success\n",
      "39 success\n",
      "40 success\n",
      "41 success\n",
      "42 success\n",
      "43 success\n",
      "44 success\n",
      "45 success\n",
      "46 success\n",
      "47 success\n",
      "48 success\n",
      "49 success\n"
     ]
    }
   ],
   "source": [
    "# driver.定位.send_keys(Keys.特殊鍵, Keys.特殊鍵, Keys.特殊鍵) # 通式\n",
    "for i in range(50):\n",
    "    driver.find_element('css selector', 'html').send_keys(Keys.END) # 通常定位在最根部的 html 即可\n",
    "    sleep(2)\n",
    "    print(i, \"success\")\n",
    "\n",
    "# 獲取頁面源代碼\n",
    "html_source = driver.page_source"
   ]
  },
  {
   "cell_type": "code",
   "execution_count": 14,
   "metadata": {},
   "outputs": [],
   "source": [
    "\n",
    "html_source = driver.page_source\n",
    "\n",
    "# 使用 BeautifulSoup 解析 HTML 內容\n",
    "soup = BeautifulSoup(html_source, 'lxml')\n",
    "\n",
    "all = soup.find_all(\"div\", class_ = \"apphub_CardMetaData\")\n",
    "pid = soup.find_all(\"div\", class_ = \"apphub_CardContentAuthorName\")\n",
    "\n",
    "columns = ['GameName', 'SteamCurrentViewers', 'PersonID',\"Datetime\"]\n",
    "\n",
    "save_lst = []\n",
    "for stream, person in zip(all, pid):\n",
    "    d1 = today.strftime(\"%Y-%m-%d %H:%M\")\n",
    "    title = stream.find(\"div\", class_ = \"apphub_CardContentTitle ellipsis\").text\n",
    "    Viewers = stream.find(\"div\", class_ = \"apphub_CardContentViewers ellipsis\").text\n",
    "\n",
    "    # 在父 div 中找到所有的 a 标签\n",
    "    a_tags = person.find_all('a')\n",
    "\n",
    "    # 提取并打印每个 a 标签的文本\n",
    "    for a in a_tags:\n",
    "        ppid_ = a.text.strip()  # 使用 strip() 去掉可能的多余空格\n",
    "        if ppid_:  # 如果找到不为空的文本，存储并退出循环\n",
    "            ppid = ppid_\n",
    "            break\n",
    "        \n",
    "    \n",
    "    value = [title, Viewers, ppid, d1]\n",
    "    save_lst.append(value)\n",
    "\n",
    "\n",
    "df = pd.DataFrame(\n",
    "    data = save_lst,\n",
    "    columns = columns\n",
    ")\n",
    "\n",
    "# 去重複\n",
    "df = df.drop_duplicates(subset=['GameName', 'PersonID'])\n",
    "\n",
    "driver.quit()"
   ]
  },
  {
   "cell_type": "code",
   "execution_count": 15,
   "metadata": {},
   "outputs": [],
   "source": [
    "df.to_csv(f'csv/steam_broadcast/steam_broadcast_{date_}.csv', index = 0, encoding = \"utf-8\")"
   ]
  }
 ],
 "metadata": {
  "kernelspec": {
   "display_name": "base",
   "language": "python",
   "name": "python3"
  },
  "language_info": {
   "codemirror_mode": {
    "name": "ipython",
    "version": 3
   },
   "file_extension": ".py",
   "mimetype": "text/x-python",
   "name": "python",
   "nbconvert_exporter": "python",
   "pygments_lexer": "ipython3",
   "version": "3.11.6"
  }
 },
 "nbformat": 4,
 "nbformat_minor": 2
}
