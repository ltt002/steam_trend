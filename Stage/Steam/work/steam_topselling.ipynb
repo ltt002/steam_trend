{
 "cells": [
  {
   "cell_type": "code",
   "execution_count": 1,
   "metadata": {},
   "outputs": [],
   "source": [
    "# !pip install -q selenium==4.3.0\n",
    "# !pip install lxml\n",
    "# !pip install -q beautifulsoup4==4.11.1\n",
    "# !pip install -q backoff==2.1.2\n",
    "# import backoff\n",
    "# backoff.__version__\n",
    "# !pip install -q pandas\n",
    "# !pip install python-dotenv"
   ]
  },
  {
   "cell_type": "code",
   "execution_count": 2,
   "metadata": {},
   "outputs": [],
   "source": [
    "from time import sleep\n",
    "from bs4 import BeautifulSoup\n",
    "from selenium import webdriver\n",
    "from selenium.webdriver.common.by import By\n",
    "from selenium.webdriver.common.keys import Keys # 鍵盤事件\n",
    "import pandas as pd\n",
    "import backoff\n",
    "from datetime import datetime\n",
    "import pytz\n",
    "\n",
    "\n",
    "tz = pytz.timezone('Asia/Taipei')\n",
    "today = datetime.now(tz)\n",
    "date_ = today.strftime(\"%Y%m%d_%H%M\")"
   ]
  },
  {
   "cell_type": "code",
   "execution_count": 3,
   "metadata": {},
   "outputs": [],
   "source": [
    "def set_ua():\n",
    "    user_agent = 'Mozilla/5.0 (Windows NT 10.0; Win64; x64) AppleWebKit/537.36 (KHTML, like Gecko) Chrome/103.0.0.0 Safari/537.36'\n",
    "    return user_agent"
   ]
  },
  {
   "cell_type": "code",
   "execution_count": 4,
   "metadata": {},
   "outputs": [],
   "source": [
    "@backoff.on_exception(backoff.expo,\n",
    "                        Exception, \n",
    "                      max_time=10)\n",
    "def chrome_init():\n",
    "    chrome_opt = webdriver.ChromeOptions()\n",
    "    # chrome_opt.add_argument('--headless')\n",
    "    chrome_opt.add_argument('--no-sandbox')\n",
    "    chrome_opt.add_argument('--ignore-ssl-errors=yes')\n",
    "    chrome_opt.add_argument('--ignore-certificate-errors')\n",
    "    chrome_opt.add_argument(f'user-agent={set_ua()}')\n",
    "    # chrome_opt.add_argument(\"--incognito\")  # 使用無痕模式。用 selenium開瀏覽器已經很乾淨了，但疑心病重的可以用一下\n",
    "    driver = webdriver.Remote(\n",
    "        command_executor='http://selenium-hub:4444/wd/hub',\n",
    "        options=chrome_opt\n",
    "    )\n",
    "    \n",
    "    return driver"
   ]
  },
  {
   "cell_type": "code",
   "execution_count": 5,
   "metadata": {},
   "outputs": [],
   "source": [
    "country_lst = [\"global\", \"CN\", \"DK\", \"RU\", \"CA\", \"TR\", \"GB\", \"KR\", \"AT\", \"BR\", \"DE\", \"NO\", \"CZ\", \"SG\", \"JP\", \"BE\", \"FR\", \"PL\", \"TH\", \"AU\", \"SE\", \"CH\", \"NZ\", \"US\", \"IT\", \"TW\", \"FI\" ,\"NL\" ,\"ES\" ,\"HK\"]"
   ]
  },
  {
   "cell_type": "code",
   "execution_count": 6,
   "metadata": {},
   "outputs": [
    {
     "name": "stdout",
     "output_type": "stream",
     "text": [
      "global Success Output\n",
      "CN Success Output\n",
      "DK Success Output\n",
      "RU Success Output\n",
      "CA Success Output\n",
      "TR Success Output\n",
      "GB Success Output\n",
      "KR Success Output\n",
      "AT Success Output\n",
      "BR Success Output\n",
      "DE Success Output\n",
      "NO Success Output\n",
      "CZ Success Output\n",
      "SG Success Output\n",
      "JP Success Output\n",
      "BE Success Output\n",
      "FR Success Output\n",
      "PL Success Output\n",
      "TH Success Output\n",
      "AU Success Output\n",
      "SE Success Output\n",
      "CH Success Output\n",
      "NZ Success Output\n",
      "US Success Output\n",
      "IT Success Output\n",
      "TW Success Output\n",
      "FI Success Output\n",
      "NL Success Output\n",
      "ES Success Output\n",
      "HK Success Output\n"
     ]
    }
   ],
   "source": [
    "for x in country_lst:\n",
    "    suc = False\n",
    "    while suc == False:\n",
    "        url = f'https://store.steampowered.com/charts/topselling/{x}' # 指定網址\n",
    "        driver = chrome_init()\n",
    "        driver.get(url) # 進入指定網址\n",
    "        driver.implicitly_wait(5) # 等待伺服器反應最多 5 秒，如果在時間到之前反應就提早結束等待\n",
    "\n",
    "\n",
    "        driver.find_element('css selector', 'html').send_keys(Keys.END) # 通常定位在最根部的 html 即可\n",
    "        sleep(3)\n",
    "\n",
    "\n",
    "        # 獲取頁面源代碼\n",
    "        html_source = driver.page_source\n",
    "\n",
    "        # 使用 BeautifulSoup 解析 HTML 內容\n",
    "        soup = BeautifulSoup(html_source, 'lxml')\n",
    "\n",
    "        data = soup.find_all('tr', class_ = \"_2-RN6nWOY56sNmcDHu069P\")\n",
    "\n",
    "        columns = ['Rank', 'GameID', 'GameName', 'Cost', 'Country', \"Datetime\"]\n",
    "\n",
    "        save_lst = []\n",
    "        for stream in data:\n",
    "\n",
    "            appid_href = stream.find('a', href=True)\n",
    "            if appid_href:\n",
    "                href = appid_href['href']\n",
    "                if href.split('/')[3] != \"app\":\n",
    "                    continue\n",
    "                app_id = href.split('/')[4]\n",
    "\n",
    "            d1 = today.strftime(\"%Y-%m-%d %H:%M\")    \n",
    "            rank = stream.find(\"td\", class_ = \"_34h48M_x9S-9Q2FFPX_CcU\").text\n",
    "            title = stream.find(\"div\", class_ = \"_1n_4-zvf0n4aqGEksbgW9N\").text\n",
    "\n",
    "            costs = stream.find_all('div', class_='_3j4dI1yA7cRfCvK8h406OB')    \n",
    "            for cost in costs:                                \n",
    "                cost = cost.text\n",
    "\n",
    "            value = [rank, app_id, title, cost, x, d1]\n",
    "            save_lst.append(value)\n",
    "\n",
    "\n",
    "        df = pd.DataFrame(\n",
    "            data = save_lst,\n",
    "            columns = columns\n",
    "        )\n",
    "\n",
    "        driver.quit()\n",
    "        suc = True if len(df) != 0 else False\n",
    "\n",
    "\n",
    "        \n",
    "    df.to_csv(f'csv/steam_topselling_by_country/steam_topselling_{x}_{date_}.csv', index = 0, encoding = \"utf-8\")\n",
    "\n",
    "    print(x, \"Success Output\")"
   ]
  },
  {
   "cell_type": "code",
   "execution_count": 7,
   "metadata": {},
   "outputs": [],
   "source": [
    "# url = 'https://store.steampowered.com/charts/topselling/TW' # 指定網址\n",
    "# driver = chrome_init()\n",
    "# driver.get(url) # 進入指定網址\n",
    "# driver.implicitly_wait(5) # 等待伺服器反應最多 5 秒，如果在時間到之前反應就提早結束等待"
   ]
  },
  {
   "cell_type": "code",
   "execution_count": 8,
   "metadata": {},
   "outputs": [],
   "source": [
    "# driver.find_element('css selector', 'html').send_keys(Keys.END) # 通常定位在最根部的 html 即可\n",
    "# sleep(3)"
   ]
  },
  {
   "cell_type": "code",
   "execution_count": 9,
   "metadata": {},
   "outputs": [],
   "source": [
    "# # 獲取頁面源代碼\n",
    "# html_source = driver.page_source\n",
    "\n",
    "# # 使用 BeautifulSoup 解析 HTML 內容\n",
    "# soup = BeautifulSoup(html_source, 'lxml')\n",
    "\n",
    "# data = soup.find_all('tr', class_ = \"_2-RN6nWOY56sNmcDHu069P\")\n",
    "\n",
    "# columns = ['Top_Selling', 'App_ID', 'Name', 'Cost', \"Datetime\"]\n",
    "# today = datetime.today()\n",
    "\n",
    "# save_lst = []\n",
    "# for stream in data:\n",
    "\n",
    "#     appid_href = stream.find('a', href=True)\n",
    "#     if appid_href:\n",
    "#         href = appid_href['href']\n",
    "#         app_id = href.split('/')[4]\n",
    "\n",
    "#     d1 = today.strftime(\"%Y-%m-%d %H:%M\")    \n",
    "#     rank = stream.find(\"td\", class_ = \"_34h48M_x9S-9Q2FFPX_CcU\").text\n",
    "#     title = stream.find(\"div\", class_ = \"_1n_4-zvf0n4aqGEksbgW9N\").text\n",
    "\n",
    "#     costs = stream.find_all('div', class_='_3j4dI1yA7cRfCvK8h406OB')    \n",
    "#     for cost in costs:                                \n",
    "#         cost = cost.text\n",
    "        \n",
    "#     value = [rank, app_id, title, cost, d1]\n",
    "#     save_lst.append(value)\n",
    "\n",
    "\n",
    "# df = pd.DataFrame(\n",
    "#     data = save_lst,\n",
    "#     columns = columns\n",
    "# )"
   ]
  },
  {
   "cell_type": "code",
   "execution_count": 10,
   "metadata": {},
   "outputs": [],
   "source": [
    "# driver.quit()"
   ]
  },
  {
   "cell_type": "code",
   "execution_count": 11,
   "metadata": {},
   "outputs": [],
   "source": [
    "# df.to_csv('csv/steam_topselling_TW.csv', index = 0, encoding = \"utf-8\")"
   ]
  }
 ],
 "metadata": {
  "kernelspec": {
   "display_name": "base",
   "language": "python",
   "name": "python3"
  },
  "language_info": {
   "codemirror_mode": {
    "name": "ipython",
    "version": 3
   },
   "file_extension": ".py",
   "mimetype": "text/x-python",
   "name": "python",
   "nbconvert_exporter": "python",
   "pygments_lexer": "ipython3",
   "version": "3.11.6"
  }
 },
 "nbformat": 4,
 "nbformat_minor": 2
}
