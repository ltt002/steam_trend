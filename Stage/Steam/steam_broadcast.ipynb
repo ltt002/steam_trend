{
 "cells": [
  {
   "cell_type": "code",
   "execution_count": 2,
   "metadata": {},
   "outputs": [],
   "source": [
    "# !pip install -q selenium==4.3.0\n",
    "# !pip install lxml\n",
    "# !pip install -q beautifulsoup4==4.11.1\n",
    "# !pip install -q backoff==2.1.2\n",
    "# import backoff\n",
    "# backoff.__version__\n",
    "# !pip install -q pandas\n",
    "# !pip install python-dotenv"
   ]
  },
  {
   "cell_type": "code",
   "execution_count": 3,
   "metadata": {},
   "outputs": [],
   "source": [
    "from time import sleep\n",
    "from bs4 import BeautifulSoup\n",
    "from selenium import webdriver\n",
    "from selenium.webdriver.common.by import By\n",
    "from selenium.webdriver.common.keys import Keys # 鍵盤事件\n",
    "import pandas as pd\n",
    "import backoff\n",
    "from datetime import datetime"
   ]
  },
  {
   "cell_type": "code",
   "execution_count": 4,
   "metadata": {},
   "outputs": [],
   "source": [
    "def set_ua():\n",
    "    user_agent = 'Mozilla/5.0 (Windows NT 10.0; Win64; x64) AppleWebKit/537.36 (KHTML, like Gecko) Chrome/103.0.0.0 Safari/537.36'\n",
    "    return user_agent"
   ]
  },
  {
   "cell_type": "code",
   "execution_count": 5,
   "metadata": {},
   "outputs": [],
   "source": [
    "@backoff.on_exception(backoff.expo,\n",
    "                        Exception, \n",
    "                      max_time=10)\n",
    "def chrome_init():\n",
    "    chrome_opt = webdriver.ChromeOptions()\n",
    "    # chrome_opt.add_argument('--headless')\n",
    "    chrome_opt.add_argument('--no-sandbox')\n",
    "    chrome_opt.add_argument('--ignore-ssl-errors=yes')\n",
    "    chrome_opt.add_argument('--ignore-certificate-errors')\n",
    "    chrome_opt.add_argument(f'user-agent={set_ua()}')\n",
    "    # chrome_opt.add_argument(\"--incognito\")  # 使用無痕模式。用 selenium開瀏覽器已經很乾淨了，但疑心病重的可以用一下\n",
    "    driver = webdriver.Remote(\n",
    "        command_executor='http://selenium-hub:4444/wd/hub',\n",
    "        options=chrome_opt\n",
    "    )\n",
    "    \n",
    "    return driver"
   ]
  },
  {
   "cell_type": "code",
   "execution_count": 6,
   "metadata": {},
   "outputs": [],
   "source": [
    "url = 'https://steamcommunity.com/?subsection=broadcasts' # 指定網址\n",
    "driver = chrome_init()\n",
    "driver.get(url) # 進入指定網址\n",
    "driver.implicitly_wait(5) # 等待伺服器反應最多 5 秒，如果在時間到之前反應就提早結束等待"
   ]
  },
  {
   "cell_type": "code",
   "execution_count": 7,
   "metadata": {},
   "outputs": [
    {
     "name": "stdout",
     "output_type": "stream",
     "text": [
      "0\n",
      "1\n",
      "2\n",
      "3\n",
      "4\n"
     ]
    }
   ],
   "source": [
    "# driver.定位.send_keys(Keys.特殊鍵, Keys.特殊鍵, Keys.特殊鍵) # 通式\n",
    "for i in range(5):\n",
    "    driver.find_element('css selector', 'html').send_keys(Keys.END) # 通常定位在最根部的 html 即可\n",
    "    sleep(2)\n",
    "    print(i)"
   ]
  },
  {
   "cell_type": "code",
   "execution_count": 8,
   "metadata": {},
   "outputs": [],
   "source": [
    "# 獲取頁面源代碼\n",
    "html_source = driver.page_source\n",
    "\n",
    "# 使用 BeautifulSoup 解析 HTML 內容\n",
    "soup = BeautifulSoup(html_source, 'lxml')\n",
    "\n",
    "all = soup.find_all(\"div\", class_ = \"apphub_CardMetaData\")\n",
    "\n",
    "columns = ['直播名稱', '觀看人數']\n",
    "\n",
    "save_lst = []\n",
    "for stream in all:\n",
    "    value = [stream.find(\"div\", class_ = \"apphub_CardContentTitle ellipsis\").text, stream.find(\"div\", class_ = \"apphub_CardContentViewers ellipsis\").text]\n",
    "    save_lst.append(value)\n",
    "    # print(title.text)\n",
    "    # print(viewers.text)\n",
    "    # print(\"==================\")\n",
    "\n",
    "\n",
    "df = pd.DataFrame(\n",
    "    data = save_lst,\n",
    "    columns = columns\n",
    ")"
   ]
  },
  {
   "cell_type": "code",
   "execution_count": 9,
   "metadata": {},
   "outputs": [],
   "source": [
    "driver.quit()"
   ]
  },
  {
   "cell_type": "code",
   "execution_count": 10,
   "metadata": {},
   "outputs": [],
   "source": [
    "df\n",
    "df.to_csv('steam_broadcast.csv', index = 0, encoding = \"utf-8\")"
   ]
  }
 ],
 "metadata": {
  "kernelspec": {
   "display_name": "base",
   "language": "python",
   "name": "python3"
  },
  "language_info": {
   "codemirror_mode": {
    "name": "ipython",
    "version": 3
   },
   "file_extension": ".py",
   "mimetype": "text/x-python",
   "name": "python",
   "nbconvert_exporter": "python",
   "pygments_lexer": "ipython3",
   "version": "3.11.6"
  }
 },
 "nbformat": 4,
 "nbformat_minor": 2
}
