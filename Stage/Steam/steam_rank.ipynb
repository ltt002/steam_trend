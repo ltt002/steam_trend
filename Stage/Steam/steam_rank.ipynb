{
 "cells": [
  {
   "cell_type": "code",
   "execution_count": 3,
   "metadata": {},
   "outputs": [],
   "source": [
    "# !pip install -q selenium==4.3.0\n",
    "# !pip install lxml\n",
    "# !pip install -q beautifulsoup4==4.11.1\n",
    "# !pip install -q backoff==2.1.2\n",
    "# import backoff\n",
    "# backoff.__version__\n",
    "# !pip install -q pandas\n",
    "# !pip install python-dotenv"
   ]
  },
  {
   "cell_type": "code",
   "execution_count": 4,
   "metadata": {},
   "outputs": [],
   "source": [
    "from time import sleep\n",
    "from bs4 import BeautifulSoup\n",
    "from selenium import webdriver\n",
    "from selenium.webdriver.common.by import By\n",
    "from selenium.webdriver.common.keys import Keys # 鍵盤事件\n",
    "import pandas as pd\n",
    "import backoff\n",
    "from datetime import datetime"
   ]
  },
  {
   "cell_type": "code",
   "execution_count": 5,
   "metadata": {},
   "outputs": [],
   "source": [
    "def set_ua():\n",
    "    user_agent = 'Mozilla/5.0 (Windows NT 10.0; Win64; x64) AppleWebKit/537.36 (KHTML, like Gecko) Chrome/103.0.0.0 Safari/537.36'\n",
    "    return user_agent"
   ]
  },
  {
   "cell_type": "code",
   "execution_count": 6,
   "metadata": {},
   "outputs": [],
   "source": [
    "@backoff.on_exception(backoff.expo,\n",
    "                        Exception, \n",
    "                      max_time=10)\n",
    "def chrome_init():\n",
    "    chrome_opt = webdriver.ChromeOptions()\n",
    "    # chrome_opt.add_argument('--headless')\n",
    "    chrome_opt.add_argument('--no-sandbox')\n",
    "    chrome_opt.add_argument('--ignore-ssl-errors=yes')\n",
    "    chrome_opt.add_argument('--ignore-certificate-errors')\n",
    "    chrome_opt.add_argument(f'user-agent={set_ua()}')\n",
    "    # chrome_opt.add_argument(\"--incognito\")  # 使用無痕模式。用 selenium開瀏覽器已經很乾淨了，但疑心病重的可以用一下\n",
    "    driver = webdriver.Remote(\n",
    "        command_executor='http://selenium-hub:4444/wd/hub',\n",
    "        options=chrome_opt\n",
    "    )\n",
    "    \n",
    "    return driver"
   ]
  },
  {
   "cell_type": "code",
   "execution_count": 7,
   "metadata": {},
   "outputs": [],
   "source": [
    "url = 'https://store.steampowered.com/category/action/' # 指定網址\n",
    "driver = chrome_init()\n",
    "driver.get(url) # 進入指定網址\n",
    "driver.implicitly_wait(5) # 等待伺服器反應最多 5 秒，如果在時間到之前反應就提早結束等待"
   ]
  },
  {
   "cell_type": "code",
   "execution_count": 8,
   "metadata": {},
   "outputs": [
    {
     "name": "stdout",
     "output_type": "stream",
     "text": [
      "1\n",
      "2\n",
      "3\n"
     ]
    }
   ],
   "source": [
    "n = 0\n",
    "\n",
    "while n < 3:\n",
    "    try:\n",
    "        butt = driver.find_element('css selector', '#SaleSection_13268 > div._1cOoCFwafBlSkwllIMf3XM._39HWXhhjsbML7K9sme9ItV.SaleSectionForCustomCSS > div._18byEIHFiivSklOwKqIx2b > div:nth-child(2) > div._3vjDu6zylspBzUE7FmM6Yl > div > div._36qA-3ePJIusV1oKLQep-w > button')\n",
    "        if butt:\n",
    "            butt.click()\n",
    "            n += 1\n",
    "            print(n)\n",
    "            sleep(2)\n",
    "            \n",
    "    except:\n",
    "        driver.find_element('css selector', 'html').send_keys(Keys.PAGE_DOWN) # 通常定位在最根部的 html 即可\n",
    "        sleep(0.5)"
   ]
  },
  {
   "cell_type": "code",
   "execution_count": 9,
   "metadata": {},
   "outputs": [],
   "source": [
    "\n",
    "\n",
    "# 獲取頁面源代碼\n",
    "html_source = driver.page_source\n",
    "\n",
    "# 使用 BeautifulSoup 解析 HTML 內容\n",
    "soup = BeautifulSoup(html_source, 'lxml')\n",
    "\n",
    "all = soup.find_all(\"div\", class_ = \"v9uRg57bwOaPsvAnkXESO\")\n",
    "\n",
    "columns = ['遊戲名稱', 'APPID', '發行日期', '評價', '使用者評論數', '價格', '遊戲標籤']\n",
    "\n",
    "save_lst = []\n",
    "for rank in all:    \n",
    "\n",
    "    appid_href = rank.find_all('div', class_='_3rrH9dPdtHVRMzAEw82AId')\n",
    "\n",
    "    # get app id\n",
    "    for appids in appid_href:\n",
    "        appid = appids.find('a', href=True)\n",
    "        if appid:\n",
    "            href = appid['href']\n",
    "            app_id = href.split('/')[4]\n",
    "\n",
    "\n",
    "    tags = rank.find_all('a', class_='_33yqka47vWurNqhnhLJb_m')\n",
    "    name = rank.find('div', class_='_2ekpT6PjwtcFaT4jLQehUK StoreSaleWidgetTitle').text\n",
    "    date = rank.find('div', class_='_1qvTFgmehUzbdYM9cw0eS7').text\n",
    "\n",
    "\n",
    "    rating = rank.find('div', class_='_3ZWs0kB-1tuqQtie9KK-E7')\n",
    "    if rating:\n",
    "        comment = rating.find('div').text\n",
    "        num_comment = rating.find('div', class_='_1wXL_MfRpdKQ3wZiNP5lrH').text\n",
    "    else:\n",
    "        comment = \"\"\n",
    "        num_comment = \"\"\n",
    "        \n",
    "    costs = rank.find_all('div', class_='_3j4dI1yA7cRfCvK8h406OB')    \n",
    "    for cost in costs:                                \n",
    "        cost = cost.text\n",
    "\n",
    "    value = []\n",
    "    for tag in tags:                                \n",
    "        value.append(tag.text)\n",
    "\n",
    "        result = [name, app_id, date, comment, num_comment, cost, value]\n",
    "    \n",
    "    save_lst.append(result)\n",
    "\n",
    "\n",
    "df = pd.DataFrame(\n",
    "    data = save_lst,\n",
    "    columns = columns\n",
    ")\n",
    "\n",
    "\n",
    "driver.quit()"
   ]
  },
  {
   "cell_type": "code",
   "execution_count": 10,
   "metadata": {},
   "outputs": [],
   "source": [
    "df\n",
    "\n",
    "df.to_csv('steam_review_info.csv', index = 0, encoding = \"utf-8\")"
   ]
  }
 ],
 "metadata": {
  "kernelspec": {
   "display_name": "base",
   "language": "python",
   "name": "python3"
  },
  "language_info": {
   "codemirror_mode": {
    "name": "ipython",
    "version": 3
   },
   "file_extension": ".py",
   "mimetype": "text/x-python",
   "name": "python",
   "nbconvert_exporter": "python",
   "pygments_lexer": "ipython3",
   "version": "3.11.6"
  }
 },
 "nbformat": 4,
 "nbformat_minor": 2
}
