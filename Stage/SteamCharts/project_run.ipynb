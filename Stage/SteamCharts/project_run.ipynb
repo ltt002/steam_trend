{
 "cells": [
  {
   "cell_type": "code",
   "execution_count": 11,
   "id": "8d8387c1-6800-48e1-943c-73504d1d65c5",
   "metadata": {},
   "outputs": [],
   "source": [
    "import time\n",
    "import datetime \n",
    "from pprint import pprint\n",
    "from bs4 import BeautifulSoup\n",
    "import requests\n",
    "import re\n",
    "import pandas as pd"
   ]
  },
  {
   "cell_type": "code",
   "execution_count": 12,
   "id": "a66c485c-6546-4ce1-8d74-f40848ab26ae",
   "metadata": {},
   "outputs": [],
   "source": [
    "# Step1: 爬取資料 取至前5000名，並去除欄位名\n",
    "top_games_all = []\n",
    "game_ids = []\n",
    "r = 1\n",
    "while r <= 200:\n",
    "    url = f'https://steamcharts.com/top/p.{r}'\n",
    "    response = requests.get(url)\n",
    "    if response.status_code == 200:\n",
    "        soup = BeautifulSoup(response.text, 'html.parser')\n",
    "        top = soup.find('table',id=\"top-games\", class_='common-table')\n",
    "        _id = top.find_all('a')\n",
    "        top_games = top.get_text()\n",
    "        top_games = re.split(r'[\\n\\t]', top_games)\n",
    "        top_games.remove('Name')\n",
    "        top_games.remove('Current Players')\n",
    "        top_games.remove('Last 30 Days')\n",
    "        top_games.remove('Peak Players')\n",
    "        top_games.remove('Hours Played')\n",
    "        \n",
    "        for s in top_games:\n",
    "            if s != '':\n",
    "                top_games_all.append(s)\n",
    "\n",
    "        for link in _id:\n",
    "            href = link.get('href')\n",
    "            href = href.split('/app/')[1]\n",
    "            game_ids.append(href)     \n",
    "        r += 1\n",
    "    else:\n",
    "        break\n",
    "# Step2: 將取出的資料進行，每5個分組\n",
    "top_new = []\n",
    "chunk_size = 5\n",
    "for i in range(0, len(top_games_all), chunk_size):\n",
    "    chunk = top_games_all[i:i+chunk_size]\n",
    "    top_new.append(chunk)\n",
    "top_new\n",
    "\n",
    "# Step3: 將資料轉成 DataFrame\n",
    "columns = ['Rank', 'Name', 'Current_Players', 'Peak_Players', 'Hours_Played(30days)']\n",
    "data = []\n",
    "for r in top_new:\n",
    "    data.append(r)\n",
    "\n",
    "df = pd.DataFrame(\n",
    "    data=data,\n",
    "    columns=columns\n",
    ")\n",
    "\n",
    "# Step4: 加入 ID、時間欄位\n",
    "today = datetime.datetime.now()\n",
    "date = today.strftime('%Y-%m-%d %H:%M')\n",
    "_today = today.strftime('%m-%d')\n",
    "df['Datetime'] = [date for i in range(len(df))]\n",
    "df.insert(loc=1, column='App_Id', value=game_ids)\n",
    "\n",
    "# Step5: 將檔案依每日日期存放至指定資料夾\n",
    "df.to_csv(f'SteamCharts_Rank({_today}).csv', encoding='utf-8', index=False)\n",
    "\n",
    "# Step6: 將每日資料新增至 Rank_everyday.csv 檔案中\n",
    "df.to_csv('Rank_everyday.csv', encoding='utf-8', index=False, header=None, mode='a')"
   ]
  },
  {
   "cell_type": "code",
   "execution_count": null,
   "id": "5a8ce044-8471-4f30-8393-06401a241e6e",
   "metadata": {},
   "outputs": [],
   "source": []
  },
  {
   "cell_type": "code",
   "execution_count": null,
   "id": "795ebcfe-2e3e-4aed-8672-95974dcd3d1e",
   "metadata": {},
   "outputs": [],
   "source": []
  },
  {
   "cell_type": "code",
   "execution_count": null,
   "id": "7e7d5f32-a738-409e-963f-48bed1c4f2ed",
   "metadata": {},
   "outputs": [],
   "source": []
  },
  {
   "cell_type": "code",
   "execution_count": null,
   "id": "843c16c0-ee98-45bd-a499-fd23bb8ba6b5",
   "metadata": {},
   "outputs": [],
   "source": []
  },
  {
   "cell_type": "code",
   "execution_count": null,
   "id": "58e057f2-5560-4378-9c27-7976c80e8d75",
   "metadata": {},
   "outputs": [],
   "source": []
  },
  {
   "cell_type": "code",
   "execution_count": null,
   "id": "b31eb12e-322a-4a35-bab6-96782a09d014",
   "metadata": {},
   "outputs": [],
   "source": []
  },
  {
   "cell_type": "code",
   "execution_count": null,
   "id": "25ffa403-9252-46a7-a4d3-f13099a66365",
   "metadata": {},
   "outputs": [],
   "source": []
  },
  {
   "cell_type": "code",
   "execution_count": null,
   "id": "720c62f6-b1fc-43ce-8c86-506bc82f793c",
   "metadata": {},
   "outputs": [],
   "source": []
  },
  {
   "cell_type": "code",
   "execution_count": null,
   "id": "6bfb9b29-0587-43d4-9a14-d879adba6fba",
   "metadata": {},
   "outputs": [],
   "source": []
  },
  {
   "cell_type": "code",
   "execution_count": null,
   "id": "ebf6099e-aacb-41a5-96de-d8da4f207acd",
   "metadata": {},
   "outputs": [],
   "source": []
  },
  {
   "cell_type": "code",
   "execution_count": null,
   "id": "24e65419-77f4-4e3e-88fc-54b735594ec6",
   "metadata": {},
   "outputs": [],
   "source": []
  },
  {
   "cell_type": "code",
   "execution_count": null,
   "id": "e6149bbd-701d-48ed-b8c1-641e70df6944",
   "metadata": {},
   "outputs": [],
   "source": []
  },
  {
   "cell_type": "code",
   "execution_count": null,
   "id": "07ee6d27-dba3-4ea1-a158-f265ff4f3945",
   "metadata": {},
   "outputs": [],
   "source": []
  },
  {
   "cell_type": "code",
   "execution_count": null,
   "id": "a0be2aac-7299-43e2-93fb-e6e646a075e7",
   "metadata": {},
   "outputs": [],
   "source": []
  },
  {
   "cell_type": "code",
   "execution_count": null,
   "id": "ea720640-fa04-4b8f-92af-37e738ea4cb1",
   "metadata": {},
   "outputs": [],
   "source": []
  },
  {
   "cell_type": "code",
   "execution_count": null,
   "id": "7fce9cdd-090e-4695-82d0-f97280f27c65",
   "metadata": {},
   "outputs": [],
   "source": []
  },
  {
   "cell_type": "code",
   "execution_count": null,
   "id": "98b27341-82c7-4a14-bf1e-f1b649bd2160",
   "metadata": {},
   "outputs": [],
   "source": []
  },
  {
   "cell_type": "code",
   "execution_count": null,
   "id": "f9a2c6af-aef8-4d64-ad89-3c1d9d7ba068",
   "metadata": {},
   "outputs": [],
   "source": []
  },
  {
   "cell_type": "code",
   "execution_count": null,
   "id": "3a576770-5910-4854-8a8a-7db13c9c1763",
   "metadata": {},
   "outputs": [],
   "source": []
  },
  {
   "cell_type": "code",
   "execution_count": null,
   "id": "f0fe8561-935d-4c20-bc6d-4444b4e4dd4f",
   "metadata": {},
   "outputs": [],
   "source": []
  }
 ],
 "metadata": {
  "kernelspec": {
   "display_name": "Python 3 (ipykernel)",
   "language": "python",
   "name": "python3"
  },
  "language_info": {
   "codemirror_mode": {
    "name": "ipython",
    "version": 3
   },
   "file_extension": ".py",
   "mimetype": "text/x-python",
   "name": "python",
   "nbconvert_exporter": "python",
   "pygments_lexer": "ipython3",
   "version": "3.8.10"
  }
 },
 "nbformat": 4,
 "nbformat_minor": 5
}
